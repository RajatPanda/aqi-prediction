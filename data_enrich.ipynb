{
  "cells": [
    {
      "cell_type": "code",
      "source": [
        "import pandas as pd"
      ],
      "metadata": {
        "id": "KAmjdWX6zJSl"
      },
      "id": "KAmjdWX6zJSl",
      "execution_count": null,
      "outputs": []
    },
    {
      "cell_type": "code",
      "source": [
        "from google.colab import drive\n",
        "drive.mount('/content/drive')"
      ],
      "metadata": {
        "id": "u51nzga5xoJg",
        "outputId": "d5355610-f51c-4d21-c3ec-975b98e352cb",
        "colab": {
          "base_uri": "https://localhost:8080/"
        }
      },
      "id": "u51nzga5xoJg",
      "execution_count": 2,
      "outputs": [
        {
          "output_type": "stream",
          "name": "stdout",
          "text": [
            "Mounted at /content/drive\n"
          ]
        }
      ]
    },
    {
      "cell_type": "code",
      "source": [
        "csv_path = '/content/drive/MyDrive/ML_Dataset/AQI_2010_2023/stations_info.csv'\n",
        "\n",
        "try:\n",
        "  df = pd.read_csv(csv_path)\n",
        "  print(df.head())\n",
        "except FileNotFoundError:\n",
        "  print(f\"Error: The file '{csv_path}' was not found. Make sure the file path is correct.\")\n",
        "except Exception as e:\n",
        "  print(f\"An error occurred: {e}\")"
      ],
      "metadata": {
        "id": "AcPp6AmFx8vl"
      },
      "id": "AcPp6AmFx8vl",
      "execution_count": null,
      "outputs": []
    }
  ],
  "metadata": {
    "kernelspec": {
      "display_name": "Python 3",
      "language": "python",
      "name": "python3"
    },
    "language_info": {
      "codemirror_mode": {
        "name": "ipython",
        "version": 2
      },
      "file_extension": ".py",
      "mimetype": "text/x-python",
      "name": "python",
      "nbconvert_exporter": "python",
      "pygments_lexer": "ipython2",
      "version": "2.7.6"
    },
    "colab": {
      "provenance": []
    }
  },
  "nbformat": 4,
  "nbformat_minor": 5
}